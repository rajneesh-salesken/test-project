{
 "cells": [
  {
   "cell_type": "code",
   "execution_count": 1,
   "metadata": {},
   "outputs": [],
   "source": [
    "import urllib3\n",
    "from bs4 import BeautifulSoup\n",
    "import re"
   ]
  },
  {
   "cell_type": "code",
   "execution_count": 2,
   "metadata": {},
   "outputs": [],
   "source": [
    "http = urllib3.PoolManager()"
   ]
  },
  {
   "cell_type": "code",
   "execution_count": 259,
   "metadata": {},
   "outputs": [],
   "source": [
    "r = http.request('GET', 'https://blog.eccouncil.org/write-for-us/')"
   ]
  },
  {
   "cell_type": "code",
   "execution_count": 260,
   "metadata": {},
   "outputs": [],
   "source": [
    "Keyword=[]\n",
    "soup = BeautifulSoup(r.data, 'html.parser' ) \n",
    "Keyword.append(soup.body.findAll(text=re.compile('EC')))"
   ]
  },
  {
   "cell_type": "code",
   "execution_count": 261,
   "metadata": {},
   "outputs": [
    {
     "name": "stdout",
     "output_type": "stream",
     "text": [
      "[['EC-Council', 'EC-Council', 'ECCU – EC-COUNCIL UNIVERSITY', 'EGS – EC-COUNCIL GLOBAL SERVICES', 'EC-COUNCIL FOUNDATION', 'EC-COUNCIL ACADEMIA', 'EC-Council', 'EC-Council', 'ECCU – EC-COUNCIL UNIVERSITY', 'EGS – EC-COUNCIL GLOBAL SERVICES', 'EC-COUNCIL FOUNDATION', 'EC-COUNCIL ACADEMIA', 'Writing for EC-Council is highly rewarding. As a highly respected cert body, we have thousands of IT professionals who look to us for cybersecurity knowledge, risk management, and the latest hacking and security methods.', 'EC-Council is also accepting white paper submissions on topics related to the following:', 'After a preliminary review, the author will then be asked to submit the paper, following EC-Council’s format and guidelines. These submitted papers will then be passed through the Global Content Committee for final review.', '\\n\\t\\t\\t\\t\\t©2018 EC-Council\\t\\t\\t\\t']]\n"
     ]
    }
   ],
   "source": [
    "print(Keyword)"
   ]
  },
  {
   "cell_type": "code",
   "execution_count": 262,
   "metadata": {},
   "outputs": [],
   "source": [
    "with open('/home/rajneesh/Desktop/ECCONCIL_SCRAP/eccouncil_scrab1.txt', 'a') as f:\n",
    "    for item in Keyword[0]:\n",
    "            f.write(\"%s\\n\" % item)"
   ]
  },
  {
   "cell_type": "code",
   "execution_count": 116,
   "metadata": {},
   "outputs": [],
   "source": [
    "links=[]\n",
    "for link in soup.find_all('a'):\n",
    "    if link.get('href')=='#':\n",
    "        pass\n",
    "    elif link.get('href') in links:\n",
    "        pass\n",
    "    else:\n",
    "        links.append(link.get('href'))"
   ]
  },
  {
   "cell_type": "code",
   "execution_count": 117,
   "metadata": {},
   "outputs": [
    {
     "data": {
      "text/plain": [
       "63"
      ]
     },
     "execution_count": 117,
     "metadata": {},
     "output_type": "execute_result"
    }
   ],
   "source": [
    "len(links)"
   ]
  },
  {
   "cell_type": "code",
   "execution_count": 118,
   "metadata": {
    "scrolled": false
   },
   "outputs": [
    {
     "name": "stdout",
     "output_type": "stream",
     "text": [
      "1 https://blog.eccouncil.org\n",
      "2 https://www.eccouncil.org/\n",
      "3 https://www.eccouncil.org/programs/\n",
      "4 https://www.eccu.edu/\n",
      "5 https://www.eccgs.com/\n",
      "6 https://blog.eccouncil.org/ec-council-dossier/\n",
      "7 https://blog.eccouncil.org/ec-council-news/\n",
      "8 https://blog.eccouncil.org/speed-reading/\n",
      "9 https://blog.eccouncil.org/speed-reading/fundamental/\n",
      "10 https://blog.eccouncil.org/speed-reading/intermediate/\n",
      "11 https://blog.eccouncil.org/speed-reading/advanced/\n",
      "12 https://blog.eccouncil.org/cyber-research/\n",
      "13 https://blog.eccouncil.org/members-feedback/\n",
      "14 https://www.eccouncil.org/about/\n",
      "15 https://www.eccouncil.org/ec-council-management-committee/\n",
      "16 https://www.eccouncil.org/ec-council-governance/\n",
      "17 https://www.eccouncil.org/honorary-council/\n",
      "18 https://www.eccouncil.org/scheme-committee/\n",
      "19 https://www.eccouncil.org/code-of-ethics/\n",
      "20 https://www.eccouncil.org/about/accredited-training-center-atc/\n",
      "21 https://www.eccouncil.org/global-sites/\n",
      "22 https://www.eccu.edu/?utm_source=ECC&utm_medium=CrossLink&utm_campaign=ECC-About-Sec\n",
      "23 https://www.eccgs.com/about-egs/\n",
      "24 https://www.iibcouncil.org/\n",
      "25 https://foundation.eccouncil.org/\n",
      "26 https://www.eccouncil.org/academia/\n",
      "27 https://www.eccouncil.org/awards-and-recognition/\n",
      "28 https://www.eccouncil.org/accreditations/\n",
      "29 https://www.eccouncil.org/about/contact/\n",
      "30 https://blog.eccouncil.org/is-ransomware-disrupting-your-fortnite-play/\n",
      "31 https://blog.eccouncil.org/2019/09/17/\n",
      "32 https://blog.eccouncil.org/identity-and-access-management-preventing-a-cyber-attack/\n",
      "33 https://blog.eccouncil.org/2019/09/08/\n",
      "34 https://blog.eccouncil.org/8-steps-for-startups-to-secure-their-network-against-threats-before-2020/\n",
      "35 https://blog.eccouncil.org/2019/08/15/\n",
      "36 https://blog.eccouncil.org/everything-you-need-to-know-about-firewalls-and-everything-to-avoid/\n",
      "37 https://blog.eccouncil.org/2019/07/24/\n",
      "38 https://blog.eccouncil.org/best-practices-for-effective-incident-handling-in-an-organization/\n",
      "39 https://blog.eccouncil.org/2019/07/12/\n",
      "40 https://blog.eccouncil.org/most-common-cyber-vulnerabilities-part-5-security-misconfiguration/\n",
      "41 https://blog.eccouncil.org/2019/07/09/\n",
      "42 https://blog.eccouncil.org/spyware-in-the-iot-what-does-it-mean-for-your-online-privacy/\n",
      "43 https://blog.eccouncil.org/2019/06/25/\n",
      "44 https://blog.eccouncil.org/most-common-cyber-vulnerabilities-part-4-broken-authentication/\n",
      "45 https://blog.eccouncil.org/2019/06/22/\n",
      "46 https://blog.eccouncil.org/most-common-cyber-vulnerabilities-part-2-buffer-overflow/\n",
      "47 https://blog.eccouncil.org/2019/06/05/\n",
      "48 https://blog.eccouncil.org/most-common-cyber-vulnerabilities-part-1-injection-flaws/\n",
      "49 https://blog.eccouncil.org/2019/06/01/\n",
      "50 https://blog.eccouncil.org/what-is-security-incident-and-event-management-siem/\n",
      "51 https://blog.eccouncil.org/2019/05/19/\n",
      "52 https://blog.eccouncil.org/mobile-app-security-considerations-for-developers/\n",
      "53 https://blog.eccouncil.org/2019/05/05/\n",
      "54 https://blog.eccouncil.org/speed-reading/advanced/page/2/\n",
      "55 https://blog.eccouncil.org/\n",
      "56 https://www.linkedin.com/company/ec-council\n",
      "57 https://twitter.com/ECCOUNCIL\n",
      "58 https://www.facebook.com/ECCouncil\n",
      "59 https://www.youtube.com/user/eccouncilusa\n",
      "60 https://www.eccouncil.org/terms-of-use/\n",
      "61 https://blog.eccouncil.org/privacy-statement/\n",
      "62 https://www.eccouncil.org/sitemap/\n",
      "63 https://blog.eccouncil.org/write-for-us/\n"
     ]
    }
   ],
   "source": [
    "count=0\n",
    "for link in links:\n",
    "    count+=1\n",
    "    print(count,link)"
   ]
  }
 ],
 "metadata": {
  "kernelspec": {
   "display_name": "Python 3",
   "language": "python",
   "name": "python3"
  },
  "language_info": {
   "codemirror_mode": {
    "name": "ipython",
    "version": 3
   },
   "file_extension": ".py",
   "mimetype": "text/x-python",
   "name": "python",
   "nbconvert_exporter": "python",
   "pygments_lexer": "ipython3",
   "version": "3.6.8"
  }
 },
 "nbformat": 4,
 "nbformat_minor": 2
}
